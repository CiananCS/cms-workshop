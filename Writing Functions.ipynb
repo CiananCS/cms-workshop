{
 "cells": [
  {
   "cell_type": "code",
   "execution_count": 2,
   "metadata": {},
   "outputs": [
    {
     "name": "stdout",
     "output_type": "stream",
     "text": [
      "O to H1 : 0.969\n",
      "O to H2 : 0.969\n"
     ]
    }
   ],
   "source": [
    "import numpy\n",
    "import os\n",
    "\n",
    "file_location = os.path.join('data','data', 'water.xyz')\n",
    "xyz_file = numpy.genfromtxt(fname=file_location, skip_header=2, dtype='unicode')\n",
    "symbols = xyz_file[:, 0]\n",
    "coordinates = xyz_file[:, 1:]\n",
    "coordinates = coordinates.astype(numpy.float)\n",
    "num_atoms = len(symbols)\n",
    "for num1 in range(0, num_atoms):\n",
    "    for num2 in range(0, num_atoms):\n",
    "        if num1 < num2:\n",
    "            x_distance = coordinates[num1, 0] - coordinates[num2, 0]\n",
    "            y_distance = coordinates[num1, 1] - coordinates[num2, 1]\n",
    "            z_distance = coordinates[num1, 2] - coordinates[num2, 2]\n",
    "            bond_length_12 = numpy.sqrt(x_distance ** 2 + y_distance ** 2 + z_distance ** 2)\n",
    "            if bond_length_12 > 0 and bond_length_12 <= 1.5:\n",
    "                print(F'{symbols[num1]} to {symbols[num2]} : {bond_length_12:.3f}')"
   ]
  },
  {
   "cell_type": "code",
   "execution_count": 3,
   "metadata": {},
   "outputs": [],
   "source": [
    "def calculate_distance(atom1_coord, atom2_coord):\n",
    "    x_distance = atom1_coord[0] - atom2_coord[0]\n",
    "    y_distance = atom1_coord[1] - atom2_coord[1]\n",
    "    z_distance = atom1_coord[2] - atom2_coord[2]\n",
    "    bond_length_12 = numpy.sqrt(x_distance ** 2 + y_distance ** 2 + z_distance ** 2)\n",
    "    return bond_length_12"
   ]
  },
  {
   "cell_type": "code",
   "execution_count": 4,
   "metadata": {},
   "outputs": [
    {
     "name": "stdout",
     "output_type": "stream",
     "text": [
      "O to H1 : 0.969\n",
      "O to H2 : 0.969\n"
     ]
    }
   ],
   "source": [
    "for num1 in range(0, num_atoms):\n",
    "    for num2 in range(0, num_atoms):\n",
    "        if num1 < num2:\n",
    "            bond_length_12 = calculate_distance(coordinates[num1], coordinates[num2])\n",
    "            if bond_length_12 > 0 and bond_length_12 <= 1.5:\n",
    "                print(F'{symbols[num1]} to {symbols[num2]} : {bond_length_12:.3f}')"
   ]
  },
  {
   "cell_type": "code",
   "execution_count": 5,
   "metadata": {},
   "outputs": [],
   "source": [
    "def bond_check(atom_distance,minlength,maxlength):\n",
    "    if atom_distance > minlength and atom_distance <= maxlength:\n",
    "        return True\n",
    "    else:\n",
    "        return False"
   ]
  },
  {
   "cell_type": "code",
   "execution_count": 6,
   "metadata": {},
   "outputs": [
    {
     "name": "stdout",
     "output_type": "stream",
     "text": [
      "Help on function calculate_distance in module __main__:\n",
      "\n",
      "calculate_distance(atom1_coord, atom2_coord)\n",
      "\n"
     ]
    }
   ],
   "source": [
    "help(calculate_distance)"
   ]
  },
  {
   "cell_type": "code",
   "execution_count": 7,
   "metadata": {},
   "outputs": [
    {
     "name": "stdout",
     "output_type": "stream",
     "text": [
      "Help on function calculate_distance in module __main__:\n",
      "\n",
      "calculate_distance(atom1_coord, atom2_coord)\n",
      "    Calculate the distance between two three-dimensional points.\n",
      "\n"
     ]
    }
   ],
   "source": [
    "def calculate_distance(atom1_coord, atom2_coord):\n",
    "    \"\"\"Calculate the distance between two three-dimensional points.\"\"\"\n",
    "\n",
    "    x_distance = atom1_coord[0] - atom2_coord[0]\n",
    "    y_distance = atom1_coord[1] - atom2_coord[1]\n",
    "    z_distance = atom1_coord[2] - atom2_coord[2]\n",
    "    bond_length_12 = numpy.sqrt(x_distance**2+y_distance**2+z_distance**2)\n",
    "    return bond_length_12\n",
    "help(calculate_distance)"
   ]
  },
  {
   "cell_type": "code",
   "execution_count": 9,
   "metadata": {},
   "outputs": [],
   "source": [
    "def bond_check(atom_distance, minimum_length=0, maximum_length=1.5):\n",
    "    \"\"\"\n",
    "    Check if a distance is a bond based on a minimum and maximum bond length.\n",
    "    \"\"\"\n",
    "\n",
    "    if atom_distance > minimum_length and atom_distance <= maximum_length:\n",
    "        return True\n",
    "    else:\n",
    "        return False"
   ]
  },
  {
   "cell_type": "code",
   "execution_count": 11,
   "metadata": {},
   "outputs": [
    {
     "name": "stdout",
     "output_type": "stream",
     "text": [
      "True\n"
     ]
    }
   ],
   "source": [
    "print(bond_check(1.6,1,1.6))"
   ]
  },
  {
   "cell_type": "code",
   "execution_count": 23,
   "metadata": {},
   "outputs": [
    {
     "name": "stdout",
     "output_type": "stream",
     "text": [
      "['C' 'H' 'C' 'H' 'C' 'H' 'C' 'H' 'C' 'H' 'C' 'H'] [[ 0.       1.40272  0.     ]\n",
      " [ 0.       2.49029  0.     ]\n",
      " [-1.21479  0.70136  0.     ]\n",
      " [-2.15666  1.24515  0.     ]\n",
      " [-1.21479 -0.70136  0.     ]\n",
      " [-2.15666 -1.24515  0.     ]\n",
      " [ 0.      -1.40272  0.     ]\n",
      " [ 0.      -2.49029  0.     ]\n",
      " [ 1.21479 -0.70136  0.     ]\n",
      " [ 2.15666 -1.24515  0.     ]\n",
      " [ 1.21479  0.70136  0.     ]\n",
      " [ 2.15666  1.24515  0.     ]]\n"
     ]
    }
   ],
   "source": [
    "import numpy as np\n",
    "import os\n",
    "\n",
    "def open_xyz(filename):\n",
    "    crude = np.genfromtxt(filename,delimiter=',', dtype='unicode', skip_header=2)\n",
    "    \n",
    "    contents = [] #for some reason genfromtxt() parses xyz files strangely\n",
    "    for line in crude:\n",
    "        contents.append(line.split())\n",
    "    contents = np.array(contents) #converts contents from a list inside a list to an indexable array\n",
    "    \n",
    "    symbols = contents[:,0]\n",
    "    coordinates = contents[:,1:].astype(np.float)\n",
    "    return symbols,coordinates\n",
    "\n",
    "benzene = os.path.join('data','data','benzene.xyz')\n",
    "symbol,coordinate = open_xyz(benzene)\n",
    "print(symbol,coordinate)"
   ]
  },
  {
   "cell_type": "code",
   "execution_count": 25,
   "metadata": {},
   "outputs": [
    {
     "name": "stdout",
     "output_type": "stream",
     "text": [
      "O to H1 : 0.969\n",
      "O to H2 : 0.969\n"
     ]
    }
   ],
   "source": [
    "import numpy\n",
    "import os\n",
    "\n",
    "file_location = os.path.join('data','data', 'water.xyz')\n",
    "symbols, coord = open_xyz(file_location)\n",
    "num_atoms = len(symbols)\n",
    "for num1 in range(0, num_atoms):\n",
    "    for num2 in range(0, num_atoms):\n",
    "        if num1 < num2:\n",
    "            bond_length_12 = calculate_distance(coord[num1], coord[num2])\n",
    "            if bond_check(bond_length_12) is True:\n",
    "                print(F'{symbols[num1]} to {symbols[num2]} : {bond_length_12:.3f}')"
   ]
  },
  {
   "cell_type": "markdown",
   "metadata": {},
   "source": [
    "## Final Product:"
   ]
  },
  {
   "cell_type": "code",
   "execution_count": 30,
   "metadata": {},
   "outputs": [],
   "source": [
    "import numpy\n",
    "import os\n",
    "\n",
    "def calculate_distance(atom1_coord, atom2_coord):\n",
    "    \"\"\"\n",
    "    Calculate the distance between two three-dimensional points.\n",
    "    \"\"\"\n",
    "    x_distance = atom1_coord[0] - atom2_coord[0]\n",
    "    y_distance = atom1_coord[1] - atom2_coord[1]\n",
    "    z_distance = atom1_coord[2] - atom2_coord[2]\n",
    "    bond_length_12 = numpy.sqrt(x_distance ** 2 + y_distance ** 2 + z_distance ** 2)\n",
    "    return bond_length_12\n",
    "\n",
    "def bond_check(atom_distance, minimum_length=0, maximum_length=1.5):\n",
    "    \"\"\"Check if a distance is a bond based on a minimum and maximum bond length\"\"\"\n",
    "\n",
    "    if atom_distance > minimum_length and atom_distance <= maximum_length:\n",
    "        return True\n",
    "    else:\n",
    "        return False\n",
    "\n",
    "def open_xyz(filename):\n",
    "     \"\"\"\n",
    "     Open and read an xyz file. Returns tuple of symbols and coordinates.\n",
    "     \"\"\"\n",
    "     xyz_file = numpy.genfromtxt(fname=filename, skip_header=2, dtype='unicode')\n",
    "     symbols = xyz_file[:,0]\n",
    "     coord = (xyz_file[:,1:])\n",
    "     coord = coord.astype(numpy.float)\n",
    "     return symbols, coord\n",
    "\n",
    "def print_bonds(atom_symbols, atom_coordinates):\n",
    "    \"\"\"\n",
    "    Prints atom symbols and bond length for a set of atoms.\n",
    "    \"\"\"\n",
    "    num_atoms = len(atom_symbols)\n",
    "    for num1 in range(0, num_atoms):\n",
    "        for num2 in range(0, num_atoms):\n",
    "            if num1 < num2:\n",
    "                bond_length_12 = calculate_distance(atom_coordinates[num1], atom_coordinates[num2])\n",
    "                if bond_check(bond_length_12) is True:\n",
    "                    print(F'{atom_symbols[num1]} to {atom_symbols[num2]} : {bond_length_12:.3f}')"
   ]
  },
  {
   "cell_type": "code",
   "execution_count": 28,
   "metadata": {},
   "outputs": [
    {
     "name": "stdout",
     "output_type": "stream",
     "text": [
      "Printing bonds for water.\n",
      "O to H1 : 0.969\n",
      "O to H2 : 0.969\n",
      "Printing bonds for benzene.\n",
      "C to H : 1.088\n",
      "C to C : 1.403\n",
      "C to C : 1.403\n",
      "C to H : 1.088\n",
      "C to C : 1.403\n",
      "C to H : 1.088\n",
      "C to C : 1.403\n",
      "C to H : 1.088\n",
      "C to C : 1.403\n",
      "C to H : 1.088\n",
      "C to C : 1.403\n",
      "C to H : 1.088\n"
     ]
    }
   ],
   "source": [
    "water_file_location = os.path.join('data','data', 'water.xyz')\n",
    "water_symbols, water_coords = open_xyz(water_file_location)\n",
    "\n",
    "benzene_file_location = os.path.join('data','data', 'benzene.xyz')\n",
    "benzene_symbols, benzene_coords = open_xyz(benzene_file_location)\n",
    "\n",
    "print(F'Printing bonds for water.')\n",
    "print_bonds(water_symbols, water_coords)\n",
    "\n",
    "print(F'Printing bonds for benzene.')\n",
    "print_bonds(benzene_symbols, benzene_coords)"
   ]
  },
  {
   "cell_type": "code",
   "execution_count": 31,
   "metadata": {},
   "outputs": [
    {
     "name": "stdout",
     "output_type": "stream",
     "text": [
      "Printing bonds for benzene.xyz.\n",
      "C to H : 1.088\n",
      "C to C : 1.403\n",
      "C to C : 1.403\n",
      "C to H : 1.088\n",
      "C to C : 1.403\n",
      "C to H : 1.088\n",
      "C to C : 1.403\n",
      "C to H : 1.088\n",
      "C to C : 1.403\n",
      "C to H : 1.088\n",
      "C to C : 1.403\n",
      "C to H : 1.088\n",
      "Printing bonds for buckminsterfullerene.xyz.\n",
      "C to C : 1.453\n",
      "C to C : 1.453\n",
      "C to C : 1.395\n",
      "C to C : 1.453\n",
      "C to C : 1.395\n",
      "C to C : 1.453\n",
      "C to C : 1.395\n",
      "C to C : 1.453\n",
      "C to C : 1.395\n",
      "C to C : 1.395\n",
      "C to C : 1.453\n",
      "C to C : 1.453\n",
      "C to C : 1.395\n",
      "C to C : 1.453\n",
      "C to C : 1.453\n",
      "C to C : 1.453\n",
      "C to C : 1.453\n",
      "C to C : 1.395\n",
      "C to C : 1.453\n",
      "C to C : 1.453\n",
      "C to C : 1.453\n",
      "C to C : 1.453\n",
      "C to C : 1.395\n",
      "C to C : 1.453\n",
      "C to C : 1.453\n",
      "C to C : 1.453\n",
      "C to C : 1.453\n",
      "C to C : 1.453\n",
      "C to C : 1.395\n",
      "C to C : 1.453\n",
      "C to C : 1.395\n",
      "C to C : 1.395\n",
      "C to C : 1.453\n",
      "C to C : 1.453\n",
      "C to C : 1.395\n",
      "C to C : 1.453\n",
      "C to C : 1.453\n",
      "C to C : 1.395\n",
      "C to C : 1.453\n",
      "C to C : 1.453\n",
      "C to C : 1.395\n",
      "C to C : 1.453\n",
      "C to C : 1.453\n",
      "C to C : 1.395\n",
      "C to C : 1.453\n",
      "C to C : 1.453\n",
      "C to C : 1.395\n",
      "C to C : 1.453\n",
      "C to C : 1.453\n",
      "C to C : 1.395\n",
      "C to C : 1.453\n",
      "C to C : 1.453\n",
      "C to C : 1.453\n",
      "C to C : 1.395\n",
      "C to C : 1.453\n",
      "C to C : 1.453\n",
      "C to C : 1.453\n",
      "C to C : 1.395\n",
      "C to C : 1.395\n",
      "C to C : 1.453\n",
      "C to C : 1.453\n",
      "C to C : 1.395\n",
      "C to C : 1.395\n",
      "C to C : 1.453\n",
      "C to C : 1.453\n",
      "C to C : 1.395\n",
      "C to C : 1.395\n",
      "C to C : 1.453\n",
      "C to C : 1.453\n",
      "C to C : 1.453\n",
      "C to C : 1.453\n",
      "C to C : 1.395\n",
      "C to C : 1.453\n",
      "C to C : 1.395\n",
      "C to C : 1.395\n",
      "C to C : 1.453\n",
      "C to C : 1.453\n",
      "C to C : 1.453\n",
      "C to C : 1.453\n",
      "C to C : 1.453\n",
      "C to C : 1.395\n",
      "C to C : 1.453\n",
      "C to C : 1.453\n",
      "C to C : 1.395\n",
      "C to C : 1.453\n",
      "C to C : 1.453\n",
      "C to C : 1.453\n",
      "C to C : 1.453\n",
      "C to C : 1.453\n",
      "C to C : 1.395\n",
      "Printing bonds for water.xyz.\n",
      "O to H1 : 0.969\n",
      "O to H2 : 0.969\n"
     ]
    }
   ],
   "source": [
    "import os,glob\n",
    "\n",
    "fileLocs = os.path.join('data','data','*.xyz')\n",
    "filenames = glob.glob(fileLocs)\n",
    "\n",
    "for f in filenames:\n",
    "    symbols,coords = open_xyz(f)\n",
    "    print(F'Printing bonds for {os.path.basename(f)}.')\n",
    "    print_bonds(symbols, coords)\n",
    "    "
   ]
  },
  {
   "cell_type": "code",
   "execution_count": 37,
   "metadata": {},
   "outputs": [
    {
     "name": "stdout",
     "output_type": "stream",
     "text": [
      "goodebye\n",
      "[ 1.  2.  3.  4.  5.  6.  7.  8.  9. 10.]\n"
     ]
    }
   ],
   "source": [
    "a = 'goodebye.txt'\n",
    "print(a[:-4])\n",
    "\n",
    "import numpy as np\n",
    "X = np.linspace(1,10,10)\n",
    "print(X)"
   ]
  }
 ],
 "metadata": {
  "kernelspec": {
   "display_name": "Python 3",
   "language": "python",
   "name": "python3"
  },
  "language_info": {
   "codemirror_mode": {
    "name": "ipython",
    "version": 3
   },
   "file_extension": ".py",
   "mimetype": "text/x-python",
   "name": "python",
   "nbconvert_exporter": "python",
   "pygments_lexer": "ipython3",
   "version": "3.7.7"
  }
 },
 "nbformat": 4,
 "nbformat_minor": 4
}
