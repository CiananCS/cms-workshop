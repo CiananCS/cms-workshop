{
 "cells": [
  {
   "cell_type": "code",
   "execution_count": 15,
   "metadata": {},
   "outputs": [
    {
     "name": "stdout",
     "output_type": "stream",
     "text": [
      "[[ 1.      8.9542  5.8024]\n",
      " [ 2.      8.6181  6.0942]\n",
      " [ 3.      9.0066  6.0637]\n",
      " [ 4.      9.2002  6.0227]\n",
      " [ 5.      9.1294  5.9365]\n",
      " [ 6.      9.0462  6.2553]\n",
      " [ 7.      8.8657  5.9186]\n",
      " [ 8.      9.3256  6.2351]\n",
      " [ 9.      9.4184  6.1993]\n",
      " [10.      9.06    6.0478]]\n"
     ]
    }
   ],
   "source": [
    "import numpy as np\n",
    "import os\n",
    "distance_file = os.path.join('data','data','distance_data_headers.csv')\n",
    "\n",
    "distances = np.genfromtxt(fname=distance_file,delimiter=',', dtype='unicode', skip_header=0)\n",
    "\n",
    "data = distances[1:,:].astype(np.float)\n",
    "headers = distances[0,:]\n",
    "\n",
    "smallData = data[0:10,0:3]\n",
    "print(smallData)"
   ]
  },
  {
   "cell_type": "code",
   "execution_count": null,
   "metadata": {},
   "outputs": [],
   "source": []
  },
  {
   "cell_type": "code",
   "execution_count": 12,
   "metadata": {},
   "outputs": [
    {
     "name": "stdout",
     "output_type": "stream",
     "text": [
      "10.876950930000001\n"
     ]
    }
   ],
   "source": [
    "thr4_atp = data[:,1]\n",
    "avg_thr4_atp = np.mean(thr4_atp)\n",
    "print(avg_thr4_atp)"
   ]
  },
  {
   "cell_type": "code",
   "execution_count": 16,
   "metadata": {},
   "outputs": [
    {
     "name": "stdout",
     "output_type": "stream",
     "text": [
      "THR4_ATP:10.876950930000001\n",
      "THR4_ASP:7.342344959999999\n",
      "TYR6_ATP:11.209791329999998\n",
      "TYR6_ASP:10.9934435\n"
     ]
    }
   ],
   "source": [
    "np.shape(data)\n",
    "\n",
    "for i in range(1,5):\n",
    "    column = data[:,i]\n",
    "    avg_col = np.mean(column)\n",
    "    print('{}:{}'.format(headers[i],avg_col))"
   ]
  },
  {
   "cell_type": "code",
   "execution_count": 52,
   "metadata": {},
   "outputs": [
    {
     "name": "stdout",
     "output_type": "stream",
     "text": [
      "O to O: \t 0.0\n",
      "O to H1: \t 0.9690005374652793\n",
      "O to H2: \t 0.9690003348647513\n",
      "H1 to O: \t 0.9690005374652793\n",
      "H1 to H1: \t 0.0\n",
      "H1 to H2: \t 1.52693633514957\n",
      "H2 to O: \t 0.9690003348647513\n",
      "H2 to H1: \t 1.52693633514957\n",
      "H2 to H2: \t 0.0\n"
     ]
    }
   ],
   "source": [
    "# Geometry Analysis Proj\n",
    "import os\n",
    "import numpy as np\n",
    "\n",
    "waterFile = os.path.join('data','data','water.xyz')\n",
    "contents = np.genfromtxt(fname=waterFile, delimiter=',', dtype='unicode', skip_header=2)\n",
    "\n",
    "data = []\n",
    "for line in contents:\n",
    "    data.append(line.split())\n",
    "data = np.array(data)\n",
    "\n",
    "# now we have data in a nice, indexable array\n",
    "\n",
    "for m in range(len(contents)):\n",
    "    for n in range(len(contents)):\n",
    "        \n",
    "        # iteratively finds the distance between the mth and nth molecule\n",
    "        dist = np.sqrt(\n",
    "            (float(data[m,1]) - float(data[n,1]))**2 + # x coord\n",
    "            (float(data[m,2]) - float(data[n,2]))**2 + # y coord\n",
    "            (float(data[m,3]) - float(data[n,3]))**2   # z coord\n",
    "        )\n",
    "        \n",
    "        print('{} to {}: \\t {}'.format(data[m,0],data[n,0],dist))\n",
    "\n"
   ]
  },
  {
   "cell_type": "code",
   "execution_count": 55,
   "metadata": {},
   "outputs": [
    {
     "name": "stdout",
     "output_type": "stream",
     "text": [
      "O to H1: \t 0.9690005374652793\n",
      "O to H2: \t 0.9690003348647513\n"
     ]
    }
   ],
   "source": [
    "# Geometry Analysis Proj ext 1,2,3\n",
    "import os\n",
    "import numpy as np\n",
    "\n",
    "waterFile = os.path.join('data','data','water.xyz')\n",
    "contents = np.genfromtxt(fname=waterFile, delimiter=',', dtype='unicode', skip_header=2)\n",
    "\n",
    "data = []\n",
    "for line in contents:\n",
    "    data.append(line.split())\n",
    "data = np.array(data)\n",
    "\n",
    "# now we have data in a nice, indexable array\n",
    "\n",
    "newFile = open('bond_lengths.txt','w+')\n",
    "\n",
    "for m in range(len(contents)):\n",
    "    for n in range(m+1,len(contents)): # n with range(m+1,len) yields no duplication\n",
    "        \n",
    "        # iteratively finds the distance between the mth and nth molecule\n",
    "        dist = np.sqrt(\n",
    "            (float(data[m,1]) - float(data[n,1]))**2 + # x coord\n",
    "            (float(data[m,2]) - float(data[n,2]))**2 + # y coord\n",
    "            (float(data[m,3]) - float(data[n,3]))**2   # z coord\n",
    "        )\n",
    "        \n",
    "        if dist < 1.5:\n",
    "            message = '{} to {}: \\t {}'.format(data[m,0],data[n,0],dist)\n",
    "            print(message)\n",
    "            newFile.write(message)\n",
    "            \n",
    "\n"
   ]
  },
  {
   "cell_type": "code",
   "execution_count": 1,
   "metadata": {},
   "outputs": [
    {
     "name": "stdout",
     "output_type": "stream",
     "text": [
      "['data\\\\data\\\\benzene.xyz', 'data\\\\data\\\\buckminsterfullerene.xyz', 'data\\\\data\\\\water.xyz']\n"
     ]
    }
   ],
   "source": [
    "import os,glob\n",
    "\n",
    "fileLocs = os.path.join('data','data','*.xyz')\n",
    "filenames = glob.glob(fileLocs)\n",
    "\n",
    "for f in filenames:\n",
    "    "
   ]
  }
 ],
 "metadata": {
  "kernelspec": {
   "display_name": "Python 3",
   "language": "python",
   "name": "python3"
  },
  "language_info": {
   "codemirror_mode": {
    "name": "ipython",
    "version": 3
   },
   "file_extension": ".py",
   "mimetype": "text/x-python",
   "name": "python",
   "nbconvert_exporter": "python",
   "pygments_lexer": "ipython3",
   "version": "3.7.7"
  }
 },
 "nbformat": 4,
 "nbformat_minor": 4
}
